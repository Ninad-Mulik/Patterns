{
 "cells": [
  {
   "cell_type": "code",
   "execution_count": 25,
   "id": "b989a4df",
   "metadata": {},
   "outputs": [
    {
     "name": "stdout",
     "output_type": "stream",
     "text": [
      "*****\n",
      "*****\n",
      "*****\n",
      "*****\n",
      "*****\n"
     ]
    }
   ],
   "source": [
    "for i in range(1,6):\n",
    "    for j in range(1,6):\n",
    "        print('*',end=\"\")\n",
    "    print()"
   ]
  },
  {
   "cell_type": "code",
   "execution_count": 45,
   "id": "c56b1137",
   "metadata": {},
   "outputs": [
    {
     "name": "stdout",
     "output_type": "stream",
     "text": [
      "*\n",
      "**\n",
      "***\n",
      "****\n",
      "*****\n",
      "\n",
      "##############\n",
      "\n",
      "*****\n",
      "****\n",
      "***\n",
      "**\n",
      "*\n"
     ]
    }
   ],
   "source": [
    "for i in range(1,6):\n",
    "    for j in range(1,i+1):\n",
    "        print('*',end=\"\")\n",
    "    print()\n",
    "print()  \n",
    "print('##############')\n",
    "print()\n",
    "for i in range(1,6):\n",
    "    for j in range(6,i,-1):\n",
    "        print('*',end=\"\")\n",
    "    print()"
   ]
  },
  {
   "cell_type": "code",
   "execution_count": 17,
   "id": "9e56d4c7",
   "metadata": {},
   "outputs": [
    {
     "name": "stdout",
     "output_type": "stream",
     "text": [
      "*****\n",
      "****\n",
      "***\n",
      "**\n",
      "*\n"
     ]
    }
   ],
   "source": [
    "for i in range(1,6):\n",
    "    for j in range(6,i,-1):\n",
    "        print('*',end='')\n",
    "    print()"
   ]
  },
  {
   "cell_type": "code",
   "execution_count": 55,
   "id": "d2c240e9",
   "metadata": {},
   "outputs": [
    {
     "name": "stdout",
     "output_type": "stream",
     "text": [
      "    *\n",
      "   **\n",
      "  ***\n",
      " ****\n",
      "*****\n"
     ]
    }
   ],
   "source": [
    "n=6\n",
    "for i in range(1,n):\n",
    "    for k in range(n-1,i,-1):\n",
    "        print(\" \",end='')\n",
    "    for j in range(1,i+1):\n",
    "        print('*',end='')\n",
    "    print()"
   ]
  },
  {
   "cell_type": "code",
   "execution_count": 63,
   "id": "18fe776c",
   "metadata": {},
   "outputs": [
    {
     "name": "stdout",
     "output_type": "stream",
     "text": [
      "     *\n",
      "    **\n",
      "   ***\n",
      "  ****\n",
      " *****\n"
     ]
    }
   ],
   "source": [
    "n=6\n",
    "for i in range(1,n):\n",
    "    for j in range(n,i,-1):\n",
    "        print(' ',end=\"\")\n",
    "    for i in range(i):\n",
    "        print('*',end='')\n",
    "    print()"
   ]
  },
  {
   "cell_type": "code",
   "execution_count": 85,
   "id": "d0a93f76",
   "metadata": {
    "scrolled": true
   },
   "outputs": [
    {
     "name": "stdout",
     "output_type": "stream",
     "text": [
      "*****\n",
      " ****\n",
      "  ***\n",
      "   **\n",
      "    *\n"
     ]
    }
   ],
   "source": [
    "n=5\n",
    "for i in range(n,0,-1):\n",
    "    for k in range(n-1,i-1,-1):\n",
    "        print(' ',end='')\n",
    "    for j in range(1,i+1):\n",
    "        print('*',end='')\n",
    "    print()"
   ]
  },
  {
   "cell_type": "markdown",
   "id": "f6f01f9e",
   "metadata": {},
   "source": [
    "     *\n",
    "    ***\n",
    "   *****\n",
    "  *******\n",
    " *********"
   ]
  },
  {
   "cell_type": "code",
   "execution_count": 117,
   "id": "2aee5b29",
   "metadata": {},
   "outputs": [
    {
     "name": "stdout",
     "output_type": "stream",
     "text": [
      "        \n",
      "   *    \n",
      "  **    \n",
      " ***    \n",
      "****    \n",
      "*****    \n"
     ]
    }
   ],
   "source": [
    "n=6\n",
    "half = round(n/2)\n",
    "for i in range(n):\n",
    "    for j in range(i,half+1):\n",
    "        print(' ', end =\"\")\n",
    "    for k in range(i):\n",
    "        print('*', end = \"\")\n",
    "        i+=2\n",
    "    for l in range(half,n+1):\n",
    "        print(' ', end = \"\")\n",
    "    print()\n",
    "    "
   ]
  },
  {
   "cell_type": "code",
   "execution_count": 161,
   "id": "8bbda142",
   "metadata": {
    "scrolled": false
   },
   "outputs": [
    {
     "name": "stdout",
     "output_type": "stream",
     "text": [
      "    *\n",
      "   ***\n",
      "  *****\n",
      " *******\n",
      "*********\n"
     ]
    }
   ],
   "source": [
    "n = 5\n",
    "min_stars = 1\n",
    "for i in range(n):\n",
    "    for j in range(n - 1, i, -1):\n",
    "        print(\" \", end=\"\")\n",
    "    for k in range(min_stars):\n",
    "        print(\"*\", end=\"\")\n",
    "    min_stars += 2\n",
    "    print()"
   ]
  },
  {
   "cell_type": "raw",
   "id": "f8a06f6d",
   "metadata": {},
   "source": [
    "*********\n",
    "#*******\n",
    "##*****\n",
    "###***\n",
    "####*"
   ]
  },
  {
   "cell_type": "code",
   "execution_count": 181,
   "id": "2e43e5fa",
   "metadata": {},
   "outputs": [
    {
     "name": "stdout",
     "output_type": "stream",
     "text": [
      "    *\n",
      "   ***\n",
      "  *****\n",
      " *******\n",
      "*********\n",
      "*********\n",
      " *******\n",
      "  *****\n",
      "   ***\n",
      "    *\n"
     ]
    }
   ],
   "source": [
    "n = 5\n",
    "min_stars = 1\n",
    "for i in range(n):\n",
    "    for j in range(n - 1, i, -1):\n",
    "        print(\" \", end=\"\")\n",
    "    for k in range(min_stars):\n",
    "        print(\"*\", end=\"\")\n",
    "    min_stars += 2\n",
    "    print()\n",
    "    \n",
    "for i in range(n):\n",
    "    for j in range(i):\n",
    "        print(\" \",end=\"\")\n",
    "    for k in range(i,n):\n",
    "        print('*',end=\"\")\n",
    "    for l in range(n-1,i,-1):\n",
    "        print('*',end=\"\")\n",
    "    print()"
   ]
  },
  {
   "cell_type": "code",
   "execution_count": 182,
   "id": "8a341fa1",
   "metadata": {},
   "outputs": [],
   "source": [
    "# 1****\n",
    "# 22***\n",
    "# 333**\n",
    "# 4444*\n",
    "# 55555"
   ]
  },
  {
   "cell_type": "code",
   "execution_count": 214,
   "id": "7c88e765",
   "metadata": {
    "scrolled": true
   },
   "outputs": [
    {
     "name": "stdout",
     "output_type": "stream",
     "text": [
      "1****\n",
      "22***\n",
      "333**\n",
      "4444*\n",
      "55555\n"
     ]
    }
   ],
   "source": [
    "n=6\n",
    "for i in range(1,n):\n",
    "    for j in range(i):\n",
    "        print(i,end=\"\")\n",
    "    for k in range(n-i-1):\n",
    "        print('*',end=\"\")\n",
    "    print()"
   ]
  },
  {
   "cell_type": "code",
   "execution_count": 215,
   "id": "974f7ae1",
   "metadata": {},
   "outputs": [],
   "source": [
    "# 1****\n",
    "# 12***\n",
    "# 123**\n",
    "# 1234*\n",
    "# 12345"
   ]
  },
  {
   "cell_type": "code",
   "execution_count": 332,
   "id": "d81a631a",
   "metadata": {},
   "outputs": [
    {
     "name": "stdout",
     "output_type": "stream",
     "text": [
      "1****\n",
      "12***\n",
      "123**\n",
      "1234*\n",
      "12345\n"
     ]
    }
   ],
   "source": [
    "n=6\n",
    "for i in range(1,n):\n",
    "    for j in range(1,i+1):\n",
    "        print(j,end=\"\")\n",
    "    for k in range(n-1,i,-1):\n",
    "        print('*',end=\"\")\n",
    "    print()"
   ]
  },
  {
   "cell_type": "code",
   "execution_count": 333,
   "id": "2867c493",
   "metadata": {},
   "outputs": [],
   "source": [
    "# 55555\n",
    "# 4444*\n",
    "# 333**\n",
    "# 22***\n",
    "# 1****"
   ]
  },
  {
   "cell_type": "code",
   "execution_count": 357,
   "id": "65642ec2",
   "metadata": {},
   "outputs": [
    {
     "name": "stdout",
     "output_type": "stream",
     "text": [
      "55555\n",
      "4444*\n",
      "333**\n",
      "22***\n",
      "1****\n"
     ]
    }
   ],
   "source": [
    "a = 5\n",
    "for i in range(a,0,-1):\n",
    "    for j in range(i,0,-1):\n",
    "        print(i,end=\"\")\n",
    "    for k in range(i,a):\n",
    "        print(\"*\",end=\"\")\n",
    "    print()"
   ]
  },
  {
   "cell_type": "code",
   "execution_count": 358,
   "id": "f74a855d",
   "metadata": {},
   "outputs": [],
   "source": [
    "# 12345\n",
    "# 1234*\n",
    "# 123**\n",
    "# 12***\n",
    "# 1****"
   ]
  },
  {
   "cell_type": "code",
   "execution_count": 392,
   "id": "32d99566",
   "metadata": {},
   "outputs": [
    {
     "name": "stdout",
     "output_type": "stream",
     "text": [
      "12345\n",
      "1234*\n",
      "123**\n",
      "12***\n",
      "1****\n"
     ]
    }
   ],
   "source": [
    "n = 5\n",
    "for i in range(1,n+1):\n",
    "    for j in range(1,n+2-i):\n",
    "        print(j,end=\"\")\n",
    "    for k in range(i-1):\n",
    "        print('*',end=\"\")\n",
    "    print()"
   ]
  },
  {
   "cell_type": "code",
   "execution_count": 420,
   "id": "a8ab96f6",
   "metadata": {},
   "outputs": [],
   "source": [
    "# ****1\n",
    "# ***22\n",
    "# **333\n",
    "# *4444\n",
    "# 55555\n"
   ]
  },
  {
   "cell_type": "code",
   "execution_count": 422,
   "id": "934bea5d",
   "metadata": {},
   "outputs": [],
   "source": [
    "n = 5"
   ]
  },
  {
   "cell_type": "code",
   "execution_count": 440,
   "id": "d99f55c3",
   "metadata": {},
   "outputs": [
    {
     "name": "stdout",
     "output_type": "stream",
     "text": [
      "****1\n",
      "***22\n",
      "**333\n",
      "*4444\n",
      "55555\n"
     ]
    }
   ],
   "source": [
    "for i in range(n):\n",
    "    for j in range(n-1,i,-1):\n",
    "        print(\"*\",end=\"\")\n",
    "    for k in range(i+1):\n",
    "        print(i+1,end=\"\")\n",
    "    print()"
   ]
  },
  {
   "cell_type": "code",
   "execution_count": 441,
   "id": "40b06742",
   "metadata": {},
   "outputs": [],
   "source": [
    "# ****1\n",
    "# ***21\n",
    "# **321\n",
    "# *4321\n",
    "# 54321\n"
   ]
  },
  {
   "cell_type": "code",
   "execution_count": 561,
   "id": "c45d171e",
   "metadata": {},
   "outputs": [
    {
     "name": "stdout",
     "output_type": "stream",
     "text": [
      "****1\n",
      "***21\n",
      "**321\n",
      "*4321\n",
      "54321\n"
     ]
    }
   ],
   "source": [
    "for i in range(1,n+1):\n",
    "    for j in range(n-i):\n",
    "        print(\"*\",end=\"\")\n",
    "    for k in range(i,0,-1):\n",
    "        print(k,end=\"\")\n",
    "    print()\n",
    "n = 5 "
   ]
  },
  {
   "cell_type": "code",
   "execution_count": 562,
   "id": "5d90fbda",
   "metadata": {},
   "outputs": [
    {
     "name": "stdout",
     "output_type": "stream",
     "text": [
      "****1\n",
      "***21\n",
      "**321\n",
      "*4321\n",
      "54321\n"
     ]
    }
   ],
   "source": [
    "n = 5  # Number of rows\n",
    "\n",
    "for i in range(1, n + 1): \n",
    "    for j in range(n - i):  \n",
    "        print(\"*\", end=\"\")\n",
    "    for k in range(i, 0, -1):  \n",
    "        print(k, end=\"\")\n",
    "    print()\n"
   ]
  }
 ],
 "metadata": {
  "kernelspec": {
   "display_name": "Python 3 (ipykernel)",
   "language": "python",
   "name": "python3"
  },
  "language_info": {
   "codemirror_mode": {
    "name": "ipython",
    "version": 3
   },
   "file_extension": ".py",
   "mimetype": "text/x-python",
   "name": "python",
   "nbconvert_exporter": "python",
   "pygments_lexer": "ipython3",
   "version": "3.11.5"
  }
 },
 "nbformat": 4,
 "nbformat_minor": 5
}
