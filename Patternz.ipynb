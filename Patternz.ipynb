{
 "cells": [
  {
   "cell_type": "code",
   "execution_count": 25,
   "id": "b989a4df",
   "metadata": {},
   "outputs": [
    {
     "name": "stdout",
     "output_type": "stream",
     "text": [
      "*****\n",
      "*****\n",
      "*****\n",
      "*****\n",
      "*****\n"
     ]
    }
   ],
   "source": [
    "for i in range(1,6):\n",
    "    for j in range(1,6):\n",
    "        print('*',end=\"\")\n",
    "    print()"
   ]
  },
  {
   "cell_type": "code",
   "execution_count": 45,
   "id": "c56b1137",
   "metadata": {},
   "outputs": [
    {
     "name": "stdout",
     "output_type": "stream",
     "text": [
      "*\n",
      "**\n",
      "***\n",
      "****\n",
      "*****\n",
      "\n",
      "##############\n",
      "\n",
      "*****\n",
      "****\n",
      "***\n",
      "**\n",
      "*\n"
     ]
    }
   ],
   "source": [
    "for i in range(1,6):\n",
    "    for j in range(1,i+1):\n",
    "        print('*',end=\"\")\n",
    "    print()\n",
    "print()  \n",
    "print('##############')\n",
    "print()\n",
    "for i in range(1,6):\n",
    "    for j in range(6,i,-1):\n",
    "        print('*',end=\"\")\n",
    "    print()"
   ]
  },
  {
   "cell_type": "code",
   "execution_count": 17,
   "id": "9e56d4c7",
   "metadata": {},
   "outputs": [
    {
     "name": "stdout",
     "output_type": "stream",
     "text": [
      "*****\n",
      "****\n",
      "***\n",
      "**\n",
      "*\n"
     ]
    }
   ],
   "source": [
    "for i in range(1,6):\n",
    "    for j in range(6,i,-1):\n",
    "        print('*',end='')\n",
    "    print()"
   ]
  },
  {
   "cell_type": "code",
   "execution_count": 55,
   "id": "d2c240e9",
   "metadata": {},
   "outputs": [
    {
     "name": "stdout",
     "output_type": "stream",
     "text": [
      "    *\n",
      "   **\n",
      "  ***\n",
      " ****\n",
      "*****\n"
     ]
    }
   ],
   "source": [
    "n=6\n",
    "for i in range(1,n):\n",
    "    for k in range(n-1,i,-1):\n",
    "        print(\" \",end='')\n",
    "    for j in range(1,i+1):\n",
    "        print('*',end='')\n",
    "    print()"
   ]
  },
  {
   "cell_type": "code",
   "execution_count": 63,
   "id": "18fe776c",
   "metadata": {},
   "outputs": [
    {
     "name": "stdout",
     "output_type": "stream",
     "text": [
      "     *\n",
      "    **\n",
      "   ***\n",
      "  ****\n",
      " *****\n"
     ]
    }
   ],
   "source": [
    "n=6\n",
    "for i in range(1,n):\n",
    "    for j in range(n,i,-1):\n",
    "        print(' ',end=\"\")\n",
    "    for i in range(i):\n",
    "        print('*',end='')\n",
    "    print()"
   ]
  },
  {
   "cell_type": "code",
   "execution_count": 85,
   "id": "d0a93f76",
   "metadata": {
    "scrolled": true
   },
   "outputs": [
    {
     "name": "stdout",
     "output_type": "stream",
     "text": [
      "*****\n",
      " ****\n",
      "  ***\n",
      "   **\n",
      "    *\n"
     ]
    }
   ],
   "source": [
    "n=5\n",
    "for i in range(n,0,-1):\n",
    "    for k in range(n-1,i-1,-1):\n",
    "        print(' ',end='')\n",
    "    for j in range(1,i+1):\n",
    "        print('*',end='')\n",
    "    print()"
   ]
  },
  {
   "cell_type": "markdown",
   "id": "f6f01f9e",
   "metadata": {},
   "source": [
    "     *\n",
    "    ***\n",
    "   *****\n",
    "  *******\n",
    " *********"
   ]
  },
  {
   "cell_type": "code",
   "execution_count": 117,
   "id": "2aee5b29",
   "metadata": {},
   "outputs": [
    {
     "name": "stdout",
     "output_type": "stream",
     "text": [
      "        \n",
      "   *    \n",
      "  **    \n",
      " ***    \n",
      "****    \n",
      "*****    \n"
     ]
    }
   ],
   "source": [
    "n=6\n",
    "half = round(n/2)\n",
    "for i in range(n):\n",
    "    for j in range(i,half+1):\n",
    "        print(' ', end =\"\")\n",
    "    for k in range(i):\n",
    "        print('*', end = \"\")\n",
    "        i+=2\n",
    "    for l in range(half,n+1):\n",
    "        print(' ', end = \"\")\n",
    "    print()\n",
    "    "
   ]
  },
  {
   "cell_type": "code",
   "execution_count": 161,
   "id": "8bbda142",
   "metadata": {
    "scrolled": false
   },
   "outputs": [
    {
     "name": "stdout",
     "output_type": "stream",
     "text": [
      "    *\n",
      "   ***\n",
      "  *****\n",
      " *******\n",
      "*********\n"
     ]
    }
   ],
   "source": [
    "n = 5\n",
    "min_stars = 1\n",
    "for i in range(n):\n",
    "    for j in range(n - 1, i, -1):\n",
    "        print(\" \", end=\"\")\n",
    "    for k in range(min_stars):\n",
    "        print(\"*\", end=\"\")\n",
    "    min_stars += 2\n",
    "    print()"
   ]
  },
  {
   "cell_type": "raw",
   "id": "f8a06f6d",
   "metadata": {},
   "source": [
    "*********\n",
    "#*******\n",
    "##*****\n",
    "###***\n",
    "####*"
   ]
  },
  {
   "cell_type": "code",
   "execution_count": 181,
   "id": "2e43e5fa",
   "metadata": {},
   "outputs": [
    {
     "name": "stdout",
     "output_type": "stream",
     "text": [
      "    *\n",
      "   ***\n",
      "  *****\n",
      " *******\n",
      "*********\n",
      "*********\n",
      " *******\n",
      "  *****\n",
      "   ***\n",
      "    *\n"
     ]
    }
   ],
   "source": [
    "n = 5\n",
    "min_stars = 1\n",
    "for i in range(n):\n",
    "    for j in range(n - 1, i, -1):\n",
    "        print(\" \", end=\"\")\n",
    "    for k in range(min_stars):\n",
    "        print(\"*\", end=\"\")\n",
    "    min_stars += 2\n",
    "    print()\n",
    "    \n",
    "for i in range(n):\n",
    "    for j in range(i):\n",
    "        print(\" \",end=\"\")\n",
    "    for k in range(i,n):\n",
    "        print('*',end=\"\")\n",
    "    for l in range(n-1,i,-1):\n",
    "        print('*',end=\"\")\n",
    "    print()"
   ]
  },
  {
   "cell_type": "code",
   "execution_count": 182,
   "id": "8a341fa1",
   "metadata": {},
   "outputs": [],
   "source": [
    "# 1****\n",
    "# 22***\n",
    "# 333**\n",
    "# 4444*\n",
    "# 55555"
   ]
  },
  {
   "cell_type": "code",
   "execution_count": 214,
   "id": "7c88e765",
   "metadata": {
    "scrolled": true
   },
   "outputs": [
    {
     "name": "stdout",
     "output_type": "stream",
     "text": [
      "1****\n",
      "22***\n",
      "333**\n",
      "4444*\n",
      "55555\n"
     ]
    }
   ],
   "source": [
    "n=6\n",
    "for i in range(1,n):\n",
    "    for j in range(i):\n",
    "        print(i,end=\"\")\n",
    "    for k in range(n-i-1):\n",
    "        print('*',end=\"\")\n",
    "    print()"
   ]
  },
  {
   "cell_type": "code",
   "execution_count": 215,
   "id": "974f7ae1",
   "metadata": {},
   "outputs": [],
   "source": [
    "# 1****\n",
    "# 12***\n",
    "# 123**\n",
    "# 1234*\n",
    "# 12345"
   ]
  },
  {
   "cell_type": "code",
   "execution_count": 332,
   "id": "d81a631a",
   "metadata": {},
   "outputs": [
    {
     "name": "stdout",
     "output_type": "stream",
     "text": [
      "1****\n",
      "12***\n",
      "123**\n",
      "1234*\n",
      "12345\n"
     ]
    }
   ],
   "source": [
    "n=6\n",
    "for i in range(1,n):\n",
    "    for j in range(1,i+1):\n",
    "        print(j,end=\"\")\n",
    "    for k in range(n-1,i,-1):\n",
    "        print('*',end=\"\")\n",
    "    print()"
   ]
  },
  {
   "cell_type": "code",
   "execution_count": 333,
   "id": "2867c493",
   "metadata": {},
   "outputs": [],
   "source": [
    "# 55555\n",
    "# 4444*\n",
    "# 333**\n",
    "# 22***\n",
    "# 1****"
   ]
  },
  {
   "cell_type": "code",
   "execution_count": 357,
   "id": "65642ec2",
   "metadata": {},
   "outputs": [
    {
     "name": "stdout",
     "output_type": "stream",
     "text": [
      "55555\n",
      "4444*\n",
      "333**\n",
      "22***\n",
      "1****\n"
     ]
    }
   ],
   "source": [
    "a = 5\n",
    "for i in range(a,0,-1):\n",
    "    for j in range(i,0,-1):\n",
    "        print(i,end=\"\")\n",
    "    for k in range(i,a):\n",
    "        print(\"*\",end=\"\")\n",
    "    print()"
   ]
  },
  {
   "cell_type": "code",
   "execution_count": 358,
   "id": "f74a855d",
   "metadata": {},
   "outputs": [],
   "source": [
    "# 12345\n",
    "# 1234*\n",
    "# 123**\n",
    "# 12***\n",
    "# 1****"
   ]
  },
  {
   "cell_type": "code",
   "execution_count": 392,
   "id": "32d99566",
   "metadata": {},
   "outputs": [
    {
     "name": "stdout",
     "output_type": "stream",
     "text": [
      "12345\n",
      "1234*\n",
      "123**\n",
      "12***\n",
      "1****\n"
     ]
    }
   ],
   "source": [
    "n = 5\n",
    "for i in range(1,n+1):\n",
    "    for j in range(1,n+2-i):\n",
    "        print(j,end=\"\")\n",
    "    for k in range(i-1):\n",
    "        print('*',end=\"\")\n",
    "    print()"
   ]
  },
  {
   "cell_type": "code",
   "execution_count": 420,
   "id": "a8ab96f6",
   "metadata": {},
   "outputs": [],
   "source": [
    "# ****1\n",
    "# ***22\n",
    "# **333\n",
    "# *4444\n",
    "# 55555\n"
   ]
  },
  {
   "cell_type": "code",
   "execution_count": 422,
   "id": "934bea5d",
   "metadata": {},
   "outputs": [],
   "source": [
    "n = 5"
   ]
  },
  {
   "cell_type": "code",
   "execution_count": 440,
   "id": "d99f55c3",
   "metadata": {},
   "outputs": [
    {
     "name": "stdout",
     "output_type": "stream",
     "text": [
      "****1\n",
      "***22\n",
      "**333\n",
      "*4444\n",
      "55555\n"
     ]
    }
   ],
   "source": [
    "for i in range(n):\n",
    "    for j in range(n-1,i,-1):\n",
    "        print(\"*\",end=\"\")\n",
    "    for k in range(i+1):\n",
    "        print(i+1,end=\"\")\n",
    "    print()"
   ]
  },
  {
   "cell_type": "code",
   "execution_count": 441,
   "id": "40b06742",
   "metadata": {},
   "outputs": [],
   "source": [
    "# ****1\n",
    "# ***21\n",
    "# **321\n",
    "# *4321\n",
    "# 54321\n"
   ]
  },
  {
   "cell_type": "code",
   "execution_count": 561,
   "id": "c45d171e",
   "metadata": {
    "scrolled": false
   },
   "outputs": [
    {
     "name": "stdout",
     "output_type": "stream",
     "text": [
      "****1\n",
      "***21\n",
      "**321\n",
      "*4321\n",
      "54321\n"
     ]
    }
   ],
   "source": [
    "for i in range(1,n+1):\n",
    "    for j in range(n-i):\n",
    "        print(\"*\",end=\"\")\n",
    "    for k in range(i,0,-1):\n",
    "        print(k,end=\"\")\n",
    "    print()\n",
    "n = 5 "
   ]
  },
  {
   "cell_type": "code",
   "execution_count": 1,
   "id": "5d90fbda",
   "metadata": {},
   "outputs": [
    {
     "name": "stdout",
     "output_type": "stream",
     "text": [
      "****1\n",
      "***21\n",
      "**321\n",
      "*4321\n",
      "54321\n"
     ]
    }
   ],
   "source": [
    "n = 5  # Number of rows\n",
    "\n",
    "for i in range(1, n + 1): \n",
    "    for j in range(n - i):  \n",
    "        print(\"*\", end=\"\")\n",
    "    for k in range(i, 0, -1):  \n",
    "        print(k, end=\"\")\n",
    "    print()\n"
   ]
  },
  {
   "cell_type": "code",
   "execution_count": 1,
   "id": "93253e85",
   "metadata": {},
   "outputs": [],
   "source": [
    "# 12345\n",
    "# 1234*\n",
    "# 123**\n",
    "# 12***\n",
    "# 1****"
   ]
  },
  {
   "cell_type": "code",
   "execution_count": 52,
   "id": "aa9afa2b",
   "metadata": {},
   "outputs": [],
   "source": [
    "n = 5"
   ]
  },
  {
   "cell_type": "code",
   "execution_count": 64,
   "id": "a59d2e7f",
   "metadata": {},
   "outputs": [
    {
     "name": "stdout",
     "output_type": "stream",
     "text": [
      "12345\n",
      "1234\n",
      "123\n",
      "12\n",
      "1\n"
     ]
    }
   ],
   "source": [
    "for i in range(1,n+1):\n",
    "    for j in range(1,n+2-i):\n",
    "        print(j,end=\"\")\n",
    "    print()"
   ]
  },
  {
   "cell_type": "code",
   "execution_count": 65,
   "id": "eb960c5f",
   "metadata": {},
   "outputs": [
    {
     "name": "stdout",
     "output_type": "stream",
     "text": [
      "12345\n",
      "1234*\n",
      "123**\n",
      "12***\n",
      "1****\n"
     ]
    }
   ],
   "source": [
    "for i in range(n, 0, -1):\n",
    "    for j in range(1, n + 1):\n",
    "        if j > i:\n",
    "            print(\"*\", end=\"\")\n",
    "        else:\n",
    "            print(j, end=\"\")\n",
    "    print()"
   ]
  },
  {
   "cell_type": "code",
   "execution_count": 66,
   "id": "5269310f",
   "metadata": {},
   "outputs": [],
   "source": [
    "# ****1\n",
    "# ***21\n",
    "# **321\n",
    "# *4321\n",
    "# 54321\n"
   ]
  },
  {
   "cell_type": "code",
   "execution_count": 67,
   "id": "260048c5",
   "metadata": {},
   "outputs": [],
   "source": [
    "n = 5"
   ]
  },
  {
   "cell_type": "code",
   "execution_count": 69,
   "id": "bad1ac5f",
   "metadata": {},
   "outputs": [
    {
     "name": "stdout",
     "output_type": "stream",
     "text": [
      "54321"
     ]
    }
   ],
   "source": [
    "for i in range(n,0,-1):\n",
    "    print(i,end=\"\")"
   ]
  },
  {
   "cell_type": "code",
   "execution_count": 99,
   "id": "04e26dd5",
   "metadata": {},
   "outputs": [
    {
     "name": "stdout",
     "output_type": "stream",
     "text": [
      "****1\n",
      "***21\n",
      "**321\n",
      "*4321\n",
      "54321\n"
     ]
    }
   ],
   "source": [
    "for j in range(1,n+1):\n",
    "\n",
    "    for i in range(n,0,-1):\n",
    "        if i > j:\n",
    "            print(\"*\",end=\"\")\n",
    "        else:\n",
    "            print(i,end=\"\")\n",
    "    \n",
    "    print()"
   ]
  },
  {
   "cell_type": "code",
   "execution_count": 101,
   "id": "6453c976",
   "metadata": {},
   "outputs": [],
   "source": [
    "# 55555\n",
    "# *4444\n",
    "# **333\n",
    "# ***22\n",
    "# ****1\n"
   ]
  },
  {
   "cell_type": "code",
   "execution_count": 119,
   "id": "e03bde36",
   "metadata": {},
   "outputs": [
    {
     "name": "stdout",
     "output_type": "stream",
     "text": [
      "55555\n",
      "*4444\n",
      "**333\n",
      "***22\n",
      "****1\n"
     ]
    }
   ],
   "source": [
    "n= 5\n",
    "for i in range(n,0,-1): #5,4,3,2,1\n",
    "    for j in range(1,n+1): # 0,1,2,3\n",
    "        if j<n-i+1:\n",
    "            print('*',end=\"\")\n",
    "        else:\n",
    "            print(i,end=\"\")\n",
    "    print()"
   ]
  },
  {
   "cell_type": "code",
   "execution_count": 124,
   "id": "92cf5d44",
   "metadata": {},
   "outputs": [],
   "source": [
    "ur_table = 12 "
   ]
  },
  {
   "cell_type": "code",
   "execution_count": 178,
   "id": "9ed07cc0",
   "metadata": {},
   "outputs": [
    {
     "name": "stdout",
     "output_type": "stream",
     "text": [
      "12 x 1 = 12,14\n",
      "12 x 2 = 24,28\n",
      "12 x 3 = 36,42\n",
      "12 x 4 = 48,56\n",
      "12 x 5 = 60,70\n",
      "12 x 6 = 72,84\n",
      "12 x 7 = 84,98\n",
      "12 x 8 = 96,112\n",
      "12 x 9 = 108,126\n",
      "12 x 10 = 120,140\n",
      "[12, 24, 36, 48, 60, 72, 84, 96, 108, 120]\n"
     ]
    }
   ],
   "source": [
    "LIST = []\n",
    "increment = 2\n",
    "for i in range(1,ur_table-1):\n",
    "    \n",
    "    save_table=12*i\n",
    "    increment+=2\n",
    "    save_table_14=14*i\n",
    "    print(f\"12 x {i} = {save_table},{save_table_14}\")\n",
    "    LIST.append(save_table)\n",
    "print(LIST)\n"
   ]
  },
  {
   "cell_type": "code",
   "execution_count": 179,
   "id": "748b053f",
   "metadata": {},
   "outputs": [],
   "source": [
    "list_of_fourteen = []"
   ]
  },
  {
   "cell_type": "code",
   "execution_count": 180,
   "id": "3aba43f4",
   "metadata": {},
   "outputs": [
    {
     "name": "stdout",
     "output_type": "stream",
     "text": [
      "[14, 28, 42, 56, 70, 84, 98, 112, 126, 140]\n"
     ]
    }
   ],
   "source": [
    "INCREMENT = 2\n",
    "for i in LIST:\n",
    "    num = i + INCREMENT\n",
    "    list_of_fourteen.append(num)\n",
    "    INCREMENT += 2\n",
    "print(list_of_fourteen)"
   ]
  },
  {
   "cell_type": "code",
   "execution_count": 12,
   "id": "387f878c",
   "metadata": {},
   "outputs": [
    {
     "name": "stdout",
     "output_type": "stream",
     "text": [
      "65\n",
      "A\n"
     ]
    }
   ],
   "source": [
    "print(ord('A'))\n",
    "print(chr(65))"
   ]
  },
  {
   "cell_type": "code",
   "execution_count": 6,
   "id": "e770f106",
   "metadata": {},
   "outputs": [],
   "source": [
    "# A****\n",
    "# BB***\n",
    "# CCC**\n",
    "# DDDD*\n",
    "# EEEEE"
   ]
  },
  {
   "cell_type": "code",
   "execution_count": 16,
   "id": "5d895cf2",
   "metadata": {},
   "outputs": [],
   "source": [
    "n = 6"
   ]
  },
  {
   "cell_type": "code",
   "execution_count": 27,
   "id": "37219388",
   "metadata": {},
   "outputs": [
    {
     "name": "stdout",
     "output_type": "stream",
     "text": [
      "A****\n",
      "BB***\n",
      "CCC**\n",
      "DDDD*\n",
      "EEEEE\n"
     ]
    }
   ],
   "source": [
    "for i in range(1,n):\n",
    "    for j in range(i):\n",
    "        print(chr(64+i),end=\"\")\n",
    "    for k in range(n,i+1,-1):\n",
    "        print('*',end=\"\")\n",
    "    print()\n",
    "        "
   ]
  },
  {
   "cell_type": "code",
   "execution_count": 28,
   "id": "dc6ae0b6",
   "metadata": {},
   "outputs": [],
   "source": [
    "# A****\n",
    "# AB***\n",
    "# ABC**\n",
    "# ABCD*\n",
    "# ABCDE"
   ]
  },
  {
   "cell_type": "code",
   "execution_count": 29,
   "id": "f59384c8",
   "metadata": {},
   "outputs": [],
   "source": [
    "a = 6"
   ]
  },
  {
   "cell_type": "code",
   "execution_count": 33,
   "id": "f63e28bf",
   "metadata": {},
   "outputs": [
    {
     "name": "stdout",
     "output_type": "stream",
     "text": [
      "A****\n",
      "AB***\n",
      "ABC**\n",
      "ABCD*\n",
      "ABCDE\n"
     ]
    }
   ],
   "source": [
    "for i in range(1,a):\n",
    "    for j in range(i):\n",
    "        print(chr(65+j),end=\"\")\n",
    "    for k in range(a-1,i,-1):\n",
    "        print('*',end=\"\")\n",
    "    print()"
   ]
  },
  {
   "cell_type": "code",
   "execution_count": 34,
   "id": "94601e2c",
   "metadata": {},
   "outputs": [],
   "source": [
    "# EEEEE\n",
    "# DDDD*\n",
    "# CCC**\n",
    "# BB***\n",
    "# A****"
   ]
  },
  {
   "cell_type": "code",
   "execution_count": 36,
   "id": "b053e87f",
   "metadata": {},
   "outputs": [],
   "source": [
    "n = 5"
   ]
  },
  {
   "cell_type": "code",
   "execution_count": 46,
   "id": "8780501a",
   "metadata": {
    "scrolled": true
   },
   "outputs": [
    {
     "name": "stdout",
     "output_type": "stream",
     "text": [
      "EEEEE\n",
      "DDDD*\n",
      "CCC**\n",
      "BB***\n",
      "A****\n"
     ]
    }
   ],
   "source": [
    "for i in range(n,0,-1):\n",
    "    for j in range(i):\n",
    "        print(chr(64+i),end=\"\")\n",
    "    for k in range(n,i,-1):\n",
    "        print('*',end=\"\")\n",
    "    print()"
   ]
  },
  {
   "cell_type": "code",
   "execution_count": 50,
   "id": "f51f6279",
   "metadata": {},
   "outputs": [],
   "source": [
    "# ABCDE\n",
    "# ABCD*\n",
    "# ABC**\n",
    "# AB***\n",
    "# A****\n"
   ]
  },
  {
   "cell_type": "code",
   "execution_count": 121,
   "id": "50d64ae6",
   "metadata": {},
   "outputs": [
    {
     "name": "stdout",
     "output_type": "stream",
     "text": [
      "ABCDE\n",
      "ABCD*\n",
      "ABC**\n",
      "AB***\n",
      "A****\n"
     ]
    }
   ],
   "source": [
    "for i in range(n):\n",
    "    for j in range(n,i,-1):\n",
    "        print(chr(70-j),end=\"\")\n",
    "    for k in range(i):\n",
    "        print(\"*\",end=\"\")\n",
    "    \n",
    "    print()"
   ]
  },
  {
   "cell_type": "code",
   "execution_count": 114,
   "id": "bc07422d",
   "metadata": {},
   "outputs": [
    {
     "name": "stdout",
     "output_type": "stream",
     "text": [
      "ABCDEFGHIJ"
     ]
    }
   ],
   "source": [
    "for i in range(65,75):\n",
    "    print(chr(i),end=\"\")"
   ]
  },
  {
   "cell_type": "code",
   "execution_count": 122,
   "id": "e3621924",
   "metadata": {},
   "outputs": [],
   "source": [
    "#Input aaabbccd\n",
    "#Output a3b2c2d1"
   ]
  },
  {
   "cell_type": "code",
   "execution_count": 127,
   "id": "ea3fb550",
   "metadata": {},
   "outputs": [],
   "source": [
    "Input = 'aaabbccd'"
   ]
  },
  {
   "cell_type": "code",
   "execution_count": 130,
   "id": "1618a765",
   "metadata": {},
   "outputs": [],
   "source": [
    "lIST = [i for i in Input]"
   ]
  },
  {
   "cell_type": "code",
   "execution_count": 146,
   "id": "0c9371b5",
   "metadata": {},
   "outputs": [
    {
     "data": {
      "text/plain": [
       "['a', 'a', 'a', 'b', 'b', 'c', 'c', 'd']"
      ]
     },
     "execution_count": 146,
     "metadata": {},
     "output_type": "execute_result"
    }
   ],
   "source": [
    "lIST"
   ]
  },
  {
   "cell_type": "code",
   "execution_count": 147,
   "id": "6d59c6d8",
   "metadata": {},
   "outputs": [
    {
     "data": {
      "text/plain": [
       "['a', 'b', 'c', 'd']"
      ]
     },
     "execution_count": 147,
     "metadata": {},
     "output_type": "execute_result"
    }
   ],
   "source": [
    "new_list=[]\n",
    "for i in lIST:\n",
    "    if i not in new_list:\n",
    "        new_list.append(i)\n",
    "new_list"
   ]
  },
  {
   "cell_type": "code",
   "execution_count": 164,
   "id": "391107d3",
   "metadata": {},
   "outputs": [
    {
     "data": {
      "text/plain": [
       "['a', 1, 'b', 2, 'c', 3, 'd', 4]"
      ]
     },
     "execution_count": 164,
     "metadata": {},
     "output_type": "execute_result"
    }
   ],
   "source": [
    "counter = 0\n",
    "final_list=[]\n",
    "for i in range(len(new_list)):\n",
    "    for j in range(len(lIST)):\n",
    "        if i == j:\n",
    "            counter+=1\n",
    "    final_list.append(new_list[i])\n",
    "    final_list.append(counter)\n",
    "    \n",
    "final_list"
   ]
  },
  {
   "cell_type": "code",
   "execution_count": 174,
   "id": "7e7d6442",
   "metadata": {},
   "outputs": [
    {
     "name": "stdout",
     "output_type": "stream",
     "text": [
      "a a\n",
      "a a\n",
      "a b\n",
      "b b\n",
      "b c\n",
      "c c\n",
      "c d\n"
     ]
    },
    {
     "data": {
      "text/plain": [
       "'a3b2c2d1'"
      ]
     },
     "execution_count": 174,
     "metadata": {},
     "output_type": "execute_result"
    }
   ],
   "source": [
    "Input = \"aaabbccd\" \n",
    "lIST = list(Input)  \n",
    "counter = 1  \n",
    "result = \"\"  \n",
    "for i in range(len(lIST) - 1):\n",
    "    \n",
    "    if lIST[i] == lIST[i + 1]:\n",
    "        counter += 1  \n",
    "    else:\n",
    "       \n",
    "        result += f\"{lIST[i]}{counter}\"\n",
    "        counter = 1  \n",
    "\n",
    "result += f\"{lIST[-1]}{counter}\"\n",
    "\n",
    "\n",
    "result"
   ]
  },
  {
   "cell_type": "code",
   "execution_count": 175,
   "id": "1d97c074",
   "metadata": {},
   "outputs": [
    {
     "data": {
      "text/plain": [
       "8"
      ]
     },
     "execution_count": 175,
     "metadata": {},
     "output_type": "execute_result"
    }
   ],
   "source": [
    "len(Input)"
   ]
  },
  {
   "cell_type": "code",
   "execution_count": 171,
   "id": "f8539c5b",
   "metadata": {},
   "outputs": [],
   "source": [
    "count =0 \n",
    "for i in Input:\n",
    "    while i in range(len(Input)):\n",
    "        count += 1\n",
    "        print(count,i)\n",
    "    count = 0"
   ]
  },
  {
   "cell_type": "code",
   "execution_count": 1,
   "id": "321aec91",
   "metadata": {},
   "outputs": [],
   "source": [
    "# ****1\n",
    "# ***21\n",
    "# **321\n",
    "# *4321\n",
    "# 54321"
   ]
  },
  {
   "cell_type": "code",
   "execution_count": 2,
   "id": "e80c8583",
   "metadata": {},
   "outputs": [],
   "source": [
    "a = 5"
   ]
  },
  {
   "cell_type": "code",
   "execution_count": 48,
   "id": "4e43027b",
   "metadata": {},
   "outputs": [
    {
     "name": "stdout",
     "output_type": "stream",
     "text": [
      "****1\n",
      "***21\n",
      "**321\n",
      "*4321\n",
      "54321\n"
     ]
    }
   ],
   "source": [
    "for i in range(a):          #12345\n",
    "    for j in range(a,0,-1): #54321\n",
    "        if i < j-1:\n",
    "            print('*',end=\"\")\n",
    "        else:\n",
    "            print(j,end=\"\")\n",
    "    print()\n",
    "    \n",
    "    \n",
    "# took me 48 attempts lol .. "
   ]
  },
  {
   "cell_type": "code",
   "execution_count": 49,
   "id": "836d624b",
   "metadata": {},
   "outputs": [],
   "source": [
    "# ****A\n",
    "# ***BB\n",
    "# **CCC\n",
    "# *DDDD\n",
    "# EEEEE\n"
   ]
  },
  {
   "cell_type": "code",
   "execution_count": 50,
   "id": "f17ba9cc",
   "metadata": {},
   "outputs": [],
   "source": [
    "draw = 5"
   ]
  },
  {
   "cell_type": "code",
   "execution_count": 70,
   "id": "33a1d548",
   "metadata": {},
   "outputs": [
    {
     "name": "stdout",
     "output_type": "stream",
     "text": [
      "****A\n",
      "***BB\n",
      "**CCC\n",
      "*DDDD\n",
      "EEEEE\n"
     ]
    }
   ],
   "source": [
    "for i in range(1,draw+1): # 12345\n",
    "    \n",
    "    for k in range(draw,i,-1):\n",
    "        print(\"*\",end=\"\")\n",
    "        \n",
    "    for j in range(i,0,-1): \n",
    "        print(chr(64+i),end=\"\")\n",
    "    print()"
   ]
  },
  {
   "cell_type": "code",
   "execution_count": 72,
   "id": "cc9a62c0",
   "metadata": {},
   "outputs": [],
   "source": [
    "# ****A\n",
    "# ***BA\n",
    "# **CBA\n",
    "# *DCBA\n",
    "# EDCBA\n",
    "draw = 5"
   ]
  },
  {
   "cell_type": "code",
   "execution_count": 86,
   "id": "daf45d82",
   "metadata": {},
   "outputs": [
    {
     "name": "stdout",
     "output_type": "stream",
     "text": [
      "****A\n",
      "***BA\n",
      "**CBA\n",
      "*DCBA\n",
      "EDCBA\n"
     ]
    }
   ],
   "source": [
    "for i in range(1,draw+1): # 12345\n",
    "    \n",
    "    for j in range(draw,0,-1):  # 54321\n",
    "        if j>i:\n",
    "            print(\"*\",end=\"\")\n",
    "        else:\n",
    "            print(chr(64+j),end=\"\")\n",
    "    print()"
   ]
  },
  {
   "cell_type": "code",
   "execution_count": 79,
   "id": "70f4d0c1",
   "metadata": {},
   "outputs": [
    {
     "name": "stdout",
     "output_type": "stream",
     "text": [
      "A ,B ,C ,D ,E ,"
     ]
    }
   ],
   "source": [
    "for i in range(65,70):\n",
    "    print(chr(i),',',end=\"\")"
   ]
  },
  {
   "cell_type": "code",
   "execution_count": 88,
   "id": "69db5fb5",
   "metadata": {},
   "outputs": [],
   "source": [
    "# EEEEE\n",
    "# *DDDD\n",
    "# **CCC\n",
    "# ***BB\n",
    "# ****A\n",
    "draw = 5"
   ]
  },
  {
   "cell_type": "code",
   "execution_count": 108,
   "id": "2ef3bd9e",
   "metadata": {},
   "outputs": [
    {
     "name": "stdout",
     "output_type": "stream",
     "text": [
      "EEEEE\n",
      "*DDDD\n",
      "**CCC\n",
      "***BB\n",
      "****A\n"
     ]
    }
   ],
   "source": [
    "for i in range(draw,0,-1):     #54321\n",
    "    for j in range(draw,0,-1): #54321\n",
    "        if j>i:\n",
    "            print(\"*\",end=\"\")\n",
    "        else:\n",
    "            print(chr(64+i),end=\"\")\n",
    "    print()\n",
    "    \n",
    "    # critical thought unlocked felt like a level up got a click in the brain .. "
   ]
  },
  {
   "cell_type": "code",
   "execution_count": 109,
   "id": "012bf3d6",
   "metadata": {},
   "outputs": [],
   "source": [
    "# EDCBA\n",
    "# *DCBA\n",
    "# **CBA\n",
    "# ***BA\n",
    "# ****A"
   ]
  },
  {
   "cell_type": "code",
   "execution_count": 113,
   "id": "d00c8a80",
   "metadata": {},
   "outputs": [
    {
     "name": "stdout",
     "output_type": "stream",
     "text": [
      "EDCBA\n",
      "*DCBA\n",
      "**CBA\n",
      "***BA\n",
      "****A\n"
     ]
    }
   ],
   "source": [
    "for i in range(draw,0,-1):    #54321\n",
    "    for j in range(draw,0,-1):#54321\n",
    "        if j>i:\n",
    "            print(\"*\",end=\"\")\n",
    "        else:\n",
    "            print(chr(64+j),end=\"\")\n",
    "    print()"
   ]
  },
  {
   "cell_type": "raw",
   "id": "4671de39",
   "metadata": {},
   "source": [
    "    *\n",
    "   ***\n",
    "  *****\n",
    " *******\n",
    "*********\n",
    "TEST"
   ]
  },
  {
   "cell_type": "raw",
   "id": "53f94e5f",
   "metadata": {},
   "source": [
    "####*\n",
    "###***\n",
    "##*****\n",
    "#*******\n",
    "*********"
   ]
  },
  {
   "cell_type": "code",
   "execution_count": 200,
   "id": "0ec0e869",
   "metadata": {
    "scrolled": false
   },
   "outputs": [
    {
     "name": "stdout",
     "output_type": "stream",
     "text": [
      "    *\n",
      "   ***\n",
      "  *****\n",
      " *******\n",
      "*********\n"
     ]
    }
   ],
   "source": [
    "TEST = 5\n",
    "stars = 1\n",
    "for i in range(TEST,0,-1):\n",
    "    for j in range(i-1):\n",
    "        print(' ',end=\"\")\n",
    "    for j in range(stars):\n",
    "        print(\"*\",end=\"\")\n",
    "    stars+=2\n",
    "    print()"
   ]
  },
  {
   "cell_type": "code",
   "execution_count": 202,
   "id": "78b6b568",
   "metadata": {},
   "outputs": [],
   "source": [
    "# 1 2 3 4 *\n",
    "# 1 2 3 * 5\n",
    "# 1 2 * 4 5\n",
    "# 1 * 3 4 5\n",
    "# * 2 3 4 5\n",
    "draw = 5"
   ]
  },
  {
   "cell_type": "code",
   "execution_count": 226,
   "id": "9bfa500e",
   "metadata": {},
   "outputs": [
    {
     "name": "stdout",
     "output_type": "stream",
     "text": [
      "1 2 3 4 * \n",
      "1 2 3 * 5 \n",
      "1 2 * 4 5 \n",
      "1 * 3 4 5 \n",
      "* 2 3 4 5 \n"
     ]
    }
   ],
   "source": [
    "for i in range(draw,0,-1):\n",
    "    for j in range(1,draw+1):\n",
    "        if i == j:\n",
    "            print(\"* \",end=\"\")\n",
    "        else:\n",
    "            print(j,\"\",end=\"\")\n",
    "    print()"
   ]
  },
  {
   "cell_type": "code",
   "execution_count": 227,
   "id": "f932d268",
   "metadata": {},
   "outputs": [],
   "source": [
    "# * 1 * 2 *\n",
    "# 3 * 4 * 5\n",
    "# * 6 * 7 *\n",
    "# 8 * 9 *10\n",
    "# *11 *12 *"
   ]
  },
  {
   "cell_type": "code",
   "execution_count": 18,
   "id": "be8d4f42",
   "metadata": {},
   "outputs": [],
   "source": [
    "number = 1"
   ]
  },
  {
   "cell_type": "code",
   "execution_count": 19,
   "id": "5beb1fad",
   "metadata": {},
   "outputs": [],
   "source": [
    "draw = 5"
   ]
  },
  {
   "cell_type": "code",
   "execution_count": 20,
   "id": "4fd6bcd5",
   "metadata": {},
   "outputs": [
    {
     "name": "stdout",
     "output_type": "stream",
     "text": [
      " * 1 * 2 * \n",
      " * 3 * 4 * \n",
      " * 5 * 6 * \n",
      " * 7 * 8 * \n",
      " * 9 * 10 * \n"
     ]
    }
   ],
   "source": [
    "for i in range(draw):\n",
    "    for j in range(draw):\n",
    "        if j % 2 == 0:\n",
    "            print(\" * \",end=\"\")\n",
    "        else:\n",
    "            print(number,end=\"\")\n",
    "            number+=1\n",
    "    print()\n",
    "    # i see now"
   ]
  },
  {
   "cell_type": "code",
   "execution_count": 60,
   "id": "f8f14913",
   "metadata": {},
   "outputs": [
    {
     "name": "stdout",
     "output_type": "stream",
     "text": [
      " *  1  *  2  * \n",
      " 3  *  4  *  5 \n",
      " *  6  *  7  * \n",
      " 8  *  9  *  10 \n",
      " *  11  *  12  * \n"
     ]
    }
   ],
   "source": [
    "num = 1\n",
    "\n",
    "for i in range(draw):\n",
    "    \n",
    "    if i % 2 == 0: # 0 1 2 3 4 \n",
    "        for j in range(draw): \n",
    "            if j % 2 == 0:    \n",
    "                print(\" * \",end = \"\")\n",
    "            else:\n",
    "                print(\"\",num,\"\",end = \"\")\n",
    "                num+=1\n",
    "    else:\n",
    "        for j in range(draw):\n",
    "            if j % 2 != 0:\n",
    "                print(\" * \",end=\"\")\n",
    "            else:\n",
    "                print(\"\",num,\"\",end=\"\")\n",
    "                num += 1\n",
    "    print()   # lol my answer "
   ]
  },
  {
   "cell_type": "code",
   "execution_count": 110,
   "id": "7a9da0c9",
   "metadata": {},
   "outputs": [
    {
     "name": "stdout",
     "output_type": "stream",
     "text": [
      " * 1 * 2 *\n",
      " 3 * 4 * 5\n",
      " * 6 * 7 *\n",
      " 8 * 9 *10\n",
      " *11 *12 *\n"
     ]
    }
   ],
   "source": [
    "# textbook answer how silly\n",
    "\n",
    "n = 5\n",
    "x = 1\n",
    "for i in range(1, n + 1):\n",
    "    for j in range(1, n + 1):\n",
    "        if (i + j) % 2 == 1:\n",
    "            print(f\"{x:2}\", end=\"\")\n",
    "            x += 1\n",
    "        else:\n",
    "            print(\" *\", end=\"\")\n",
    "    print()"
   ]
  },
  {
   "cell_type": "code",
   "execution_count": 2,
   "id": "14aea46b",
   "metadata": {},
   "outputs": [],
   "source": [
    "# practise \n",
    "\n",
    "# EEEEE\n",
    "# *DDDD\n",
    "# **CCC\n",
    "# ***BB\n",
    "# ****A"
   ]
  },
  {
   "cell_type": "code",
   "execution_count": 18,
   "id": "43aeed5c",
   "metadata": {},
   "outputs": [
    {
     "name": "stdout",
     "output_type": "stream",
     "text": [
      "EEEEE\n",
      "*DDDD\n",
      "**CCC\n",
      "***BB\n",
      "****A\n"
     ]
    }
   ],
   "source": [
    "n = 5\n",
    "for i in range(n,0,-1): # 5 4 3 2 1\n",
    "    for k in range(n,i,-1):\n",
    "        print(\"*\",end=\"\")\n",
    "    for j in range(i):\n",
    "        print(chr(64+i),end=\"\")\n",
    "    print()\n",
    "        "
   ]
  },
  {
   "cell_type": "code",
   "execution_count": 20,
   "id": "d5818377",
   "metadata": {},
   "outputs": [],
   "source": [
    "# * A* B*\n",
    "# C* D* E\n",
    "# * F* G*\n",
    "# H* I* J\n",
    "# * K* L*"
   ]
  },
  {
   "cell_type": "code",
   "execution_count": 43,
   "id": "8472771f",
   "metadata": {},
   "outputs": [
    {
     "name": "stdout",
     "output_type": "stream",
     "text": [
      "* A* B* \n",
      "C* D* E\n",
      "* F* G* \n",
      "H* I* J\n",
      "* K* L* \n"
     ]
    }
   ],
   "source": [
    "n = 5\n",
    "inc = 1\n",
    "for i in range(n):\n",
    "    if i % 2 == 0:\n",
    "        for j in range(n):\n",
    "            if j % 2 == 0:\n",
    "                print(\"* \",end=\"\")\n",
    "            else:\n",
    "                print(chr(64+inc),end=\"\")\n",
    "                inc+=1\n",
    "    else:\n",
    "        for j in range(n):\n",
    "            if j % 2 != 0:\n",
    "                print(\"* \",end=\"\")\n",
    "            else:\n",
    "                print(chr(64+inc),end=\"\")\n",
    "                inc+=1\n",
    "    print()"
   ]
  },
  {
   "cell_type": "code",
   "execution_count": 32,
   "id": "79e01cd7",
   "metadata": {},
   "outputs": [
    {
     "name": "stdout",
     "output_type": "stream",
     "text": [
      "1 1 1    5      1"
     ]
    }
   ],
   "source": [
    "z = 1\n",
    "print(f\"{z}\", end=\"\")\n",
    "print(f\"{z:2}\", end=\"\")\n",
    "print(f\"{z:2}\", end=\"\")\n",
    "print(f\"{5:5}\", end=\"\")\n",
    "print(f\"{z:7}\", end=\"\")"
   ]
  },
  {
   "cell_type": "code",
   "execution_count": 61,
   "id": "99a959c9",
   "metadata": {},
   "outputs": [],
   "source": [
    "# * 0 0 0 * 0 0 0 *\n",
    "# 0 * 0 0 * 0 0 * 0\n",
    "# 0 0 * 0 * 0 * 0 0\n",
    "# 0 0 0 * * * 0 0 0\n",
    "# 0 0 0 0 * 0 0 0 0"
   ]
  },
  {
   "cell_type": "code",
   "execution_count": 90,
   "id": "0e0b96d7",
   "metadata": {},
   "outputs": [
    {
     "name": "stdout",
     "output_type": "stream",
     "text": [
      "* 0 0 0 * 0 0 0 * \n",
      "0 * 0 0 * 0 0 * 0 \n",
      "0 0 * 0 * 0 * 0 0 \n",
      "0 0 0 * * * 0 0 0 \n",
      "0 0 0 0 * 0 0 0 0 \n"
     ]
    }
   ],
   "source": [
    "num = 9\n",
    "pos_start = 0\n",
    "pos_end = num-1\n",
    "for i in range(5):\n",
    "    for j in range(num):\n",
    "        if j == num // 2:\n",
    "            print(\"* \",end=\"\")\n",
    "        elif j == pos_start and i == pos_start:\n",
    "            print(\"* \",end=\"\")\n",
    "            pos_start+=1\n",
    "        elif j == pos_end:\n",
    "            print(\"* \",end=\"\")\n",
    "            pos_end -= 1\n",
    "        else:\n",
    "            print(0,end=\" \")\n",
    "    print()"
   ]
  },
  {
   "cell_type": "code",
   "execution_count": 1,
   "id": "9c67ea14",
   "metadata": {},
   "outputs": [],
   "source": [
    "# 1\n",
    "# 1* 2\n",
    "# 1* 2* 3\n",
    "# 1* 2* 3* 4\n",
    "# 1* 2* 3* 4* 5\n"
   ]
  },
  {
   "cell_type": "code",
   "execution_count": 7,
   "id": "98beaf64",
   "metadata": {},
   "outputs": [
    {
     "name": "stdout",
     "output_type": "stream",
     "text": [
      "1\n",
      "1* 2\n",
      "1* 2* 3\n",
      "1* 2* 3* 4\n",
      "1* 2* 3* 4* 5\n"
     ]
    }
   ],
   "source": [
    "n = 5\n",
    "for i in range(2,n+2):\n",
    "    for j in range(1,i):\n",
    "        if j == 1:\n",
    "            print(j,end=\"\")\n",
    "        else:\n",
    "            print(f\"* {j}\",end=\"\")    \n",
    "    print()"
   ]
  },
  {
   "cell_type": "code",
   "execution_count": 8,
   "id": "7436ce8d",
   "metadata": {},
   "outputs": [],
   "source": [
    "# 1\n",
    "# 3* 2\n",
    "# 4* 5* 6\n",
    "# 10* 9* 8* 7\n",
    "# 11* 12* 13* 14* 15"
   ]
  },
  {
   "cell_type": "code",
   "execution_count": 11,
   "id": "b62a6ca3",
   "metadata": {},
   "outputs": [
    {
     "name": "stdout",
     "output_type": "stream",
     "text": [
      "1\n",
      "3* 2\n",
      "4* 5* 6\n",
      "10* 9* 8* 7\n",
      "11* 12* 13* 14* 15\n"
     ]
    }
   ],
   "source": [
    "num = 1\n",
    "for i in range(2,n+2):\n",
    "    if i % 2 == 0:\n",
    "        for j in range(1,i):\n",
    "            if j == 1:\n",
    "                print(num,end=\"\")\n",
    "                num+=1\n",
    "            else:\n",
    "                print(f\"* {num}\",end=\"\")\n",
    "                num+=1\n",
    "    else:\n",
    "        num_rev = num+i-2\n",
    "        for j in range(1,i):\n",
    "            if j == 1:\n",
    "                print(num_rev,end=\"\")\n",
    "                num+=1\n",
    "                num_rev-=1\n",
    "            else:\n",
    "                print(f\"* {num_rev}\",end=\"\")\n",
    "                num+=1\n",
    "                num_rev-=1\n",
    "    print()"
   ]
  },
  {
   "cell_type": "code",
   "execution_count": 1,
   "id": "002722f6",
   "metadata": {},
   "outputs": [],
   "source": [
    "#  #\n",
    "#  **\n",
    "#  ###\n",
    "#  ****\n",
    "#  #####\n"
   ]
  },
  {
   "cell_type": "code",
   "execution_count": 15,
   "id": "b8e4b402",
   "metadata": {},
   "outputs": [
    {
     "name": "stdout",
     "output_type": "stream",
     "text": [
      "#\n",
      "**\n",
      "###\n",
      "****\n",
      "#####\n"
     ]
    }
   ],
   "source": [
    "n = 5\n",
    "for i in range(n):\n",
    "    for j in range(i+1):\n",
    "        if i % 2 != 0:\n",
    "            print(\"*\",end= \"\")\n",
    "        else:\n",
    "            print(\"#\",end=\"\")\n",
    "    print()"
   ]
  },
  {
   "cell_type": "code",
   "execution_count": 16,
   "id": "c1cd8cf3",
   "metadata": {},
   "outputs": [],
   "source": [
    "# 1\n",
    "# **\n",
    "# 333\n",
    "# ****\n",
    "# 55555"
   ]
  },
  {
   "cell_type": "code",
   "execution_count": 22,
   "id": "34a7a799",
   "metadata": {},
   "outputs": [
    {
     "name": "stdout",
     "output_type": "stream",
     "text": [
      "1\n",
      "**\n",
      "333\n",
      "****\n",
      "55555\n"
     ]
    }
   ],
   "source": [
    "n = 5\n",
    "for i in range(1,n+1):\n",
    "    for j in range(1,i+1):\n",
    "        if i % 2 != 0:\n",
    "            print(i,end= \"\")\n",
    "        else:\n",
    "            print(\"*\",end=\"\")\n",
    "    print()"
   ]
  },
  {
   "cell_type": "code",
   "execution_count": 23,
   "id": "fe4e722d",
   "metadata": {},
   "outputs": [],
   "source": [
    "# 1\n",
    "# **\n",
    "# 123\n",
    "# ****\n",
    "# 12345"
   ]
  },
  {
   "cell_type": "code",
   "execution_count": 24,
   "id": "ef3b4c65",
   "metadata": {},
   "outputs": [
    {
     "name": "stdout",
     "output_type": "stream",
     "text": [
      "1\n",
      "**\n",
      "123\n",
      "****\n",
      "12345\n"
     ]
    }
   ],
   "source": [
    "n = 5\n",
    "for i in range(1,n+1):\n",
    "    for j in range(1,i+1):\n",
    "        if i % 2 != 0:\n",
    "            print(j,end= \"\")\n",
    "        else:\n",
    "            print(\"*\",end=\"\")\n",
    "    print()"
   ]
  },
  {
   "cell_type": "code",
   "execution_count": 25,
   "id": "8fc367cf",
   "metadata": {},
   "outputs": [],
   "source": [
    "# 1\n",
    "# 1*\n",
    "# 1*3\n",
    "# 1*3*\n",
    "# 1*3*5"
   ]
  },
  {
   "cell_type": "code",
   "execution_count": 37,
   "id": "847e839c",
   "metadata": {},
   "outputs": [
    {
     "name": "stdout",
     "output_type": "stream",
     "text": [
      "1\n",
      "1*\n",
      "1*3\n",
      "1*3*\n",
      "1*3*5\n"
     ]
    }
   ],
   "source": [
    "a = 7\n",
    "for i in range(2,a):\n",
    "    for j in range(1,i):\n",
    "        if j % 2 != 0:\n",
    "            print(j,end=\"\")\n",
    "        else:\n",
    "            print(\"*\",end=\"\")\n",
    "    print()"
   ]
  },
  {
   "cell_type": "code",
   "execution_count": 38,
   "id": "5c93d4ac",
   "metadata": {},
   "outputs": [],
   "source": [
    "# 1\n",
    "# 2*\n",
    "# 3*3\n",
    "# 4*4*\n",
    "# 5*5*5"
   ]
  },
  {
   "cell_type": "code",
   "execution_count": 53,
   "id": "804cbd56",
   "metadata": {},
   "outputs": [
    {
     "name": "stdout",
     "output_type": "stream",
     "text": [
      "1\n",
      "2*\n",
      "3*3\n",
      "4*4*\n",
      "5*5*5\n"
     ]
    }
   ],
   "source": [
    "a = 5\n",
    "for i in range(1,a+1):\n",
    "    for j in range(1,i+1):\n",
    "        if j % 2 == 0:\n",
    "            print(\"*\",end=\"\")\n",
    "        else:\n",
    "            print(i,end=\"\")\n",
    "    print()"
   ]
  },
  {
   "cell_type": "code",
   "execution_count": 55,
   "id": "d39039fe",
   "metadata": {},
   "outputs": [],
   "source": [
    "# #####\n",
    "# ****\n",
    "# ###\n",
    "# **\n",
    "# #"
   ]
  },
  {
   "cell_type": "code",
   "execution_count": 58,
   "id": "c009575c",
   "metadata": {},
   "outputs": [
    {
     "name": "stdout",
     "output_type": "stream",
     "text": [
      "#####\n",
      "****\n",
      "###\n",
      "**\n",
      "#\n"
     ]
    }
   ],
   "source": [
    "n = 5 \n",
    "for i in range(n,0,-1):\n",
    "    for j in range(i):\n",
    "        if i % 2 == 0:\n",
    "            print(\"*\",end=\"\")\n",
    "        else:\n",
    "            print(\"#\",end=\"\")\n",
    "    print()"
   ]
  },
  {
   "cell_type": "code",
   "execution_count": 59,
   "id": "4507bc32",
   "metadata": {},
   "outputs": [],
   "source": [
    "# #*#*#\n",
    "# #*#*\n",
    "# #*#\n",
    "# #*\n",
    "# #"
   ]
  },
  {
   "cell_type": "code",
   "execution_count": 61,
   "id": "b38a57bb",
   "metadata": {},
   "outputs": [
    {
     "name": "stdout",
     "output_type": "stream",
     "text": [
      "#*#*#\n",
      "#*#*\n",
      "#*#\n",
      "#*\n",
      "#\n"
     ]
    }
   ],
   "source": [
    "n = 5\n",
    "for i in range(n,0,-1):\n",
    "    for j in range(i):\n",
    "        if j % 2 != 0:\n",
    "            print(\"*\",end=\"\")\n",
    "        else:\n",
    "            print(\"#\",end=\"\")\n",
    "    print()"
   ]
  },
  {
   "cell_type": "code",
   "execution_count": 62,
   "id": "748e0a38",
   "metadata": {},
   "outputs": [],
   "source": [
    "# 55555\n",
    "# ****\n",
    "# 333\n",
    "# **\n",
    "# 1"
   ]
  },
  {
   "cell_type": "code",
   "execution_count": 63,
   "id": "837553ce",
   "metadata": {},
   "outputs": [
    {
     "name": "stdout",
     "output_type": "stream",
     "text": [
      "55555\n",
      "****\n",
      "333\n",
      "**\n",
      "1\n"
     ]
    }
   ],
   "source": [
    "n  = 5 \n",
    "for i in range(n,0,-1):\n",
    "    for j in range(i):\n",
    "        if i%2 == 0:\n",
    "            print(\"*\",end=\"\")\n",
    "        else:\n",
    "            print(i,end=\"\")\n",
    "    print()"
   ]
  },
  {
   "cell_type": "code",
   "execution_count": 64,
   "id": "2ff5131c",
   "metadata": {},
   "outputs": [],
   "source": [
    "# 12345\n",
    "# ****\n",
    "# 123\n",
    "# **\n",
    "# 1"
   ]
  },
  {
   "cell_type": "code",
   "execution_count": 70,
   "id": "97487c6a",
   "metadata": {},
   "outputs": [
    {
     "name": "stdout",
     "output_type": "stream",
     "text": [
      "12345\n",
      "****\n",
      "123\n",
      "**\n",
      "1\n"
     ]
    }
   ],
   "source": [
    "a = 5\n",
    "for i in range(a,0,-1):\n",
    "    for j in range(1,i+1):\n",
    "        if i % 2 == 0:\n",
    "            print(\"*\",end=\"\")\n",
    "        else:\n",
    "            print(j,end=\"\")\n",
    "    print()"
   ]
  },
  {
   "cell_type": "code",
   "execution_count": 1,
   "id": "93f2d35f",
   "metadata": {},
   "outputs": [],
   "source": [
    "# 1*3*5\n",
    "# 1*3*\n",
    "# 1*3\n",
    "# 1*\n",
    "# 1"
   ]
  },
  {
   "cell_type": "code",
   "execution_count": 9,
   "id": "5ac939e7",
   "metadata": {},
   "outputs": [
    {
     "name": "stdout",
     "output_type": "stream",
     "text": [
      "1*3*5\n",
      "1*3*\n",
      "1*3\n",
      "1*\n",
      "1\n"
     ]
    }
   ],
   "source": [
    "n = 5\n",
    "for i in range(n,0,-1):\n",
    "    for j in range(1,i+1):\n",
    "        if j % 2 != 0:\n",
    "            print(j,end=\"\")\n",
    "        else:\n",
    "            print(\"*\",end=\"\")\n",
    "    print()\n",
    "    "
   ]
  },
  {
   "cell_type": "code",
   "execution_count": 12,
   "id": "28e4806b",
   "metadata": {},
   "outputs": [],
   "source": [
    "#     #\n",
    "#    **\n",
    "#   ###\n",
    "#  ****\n",
    "# #####\n",
    "\n",
    "# &&&&#\n",
    "# &&&**\n",
    "# &&###\n",
    "# &****\n",
    "# #####"
   ]
  },
  {
   "cell_type": "code",
   "execution_count": 52,
   "id": "fb9f37b7",
   "metadata": {},
   "outputs": [
    {
     "name": "stdout",
     "output_type": "stream",
     "text": [
      "    #\n",
      "   **\n",
      "  ###\n",
      " ****\n",
      "#####\n"
     ]
    }
   ],
   "source": [
    "n = 5\n",
    "for i in range(n):\n",
    "    for j in range(n,i+1,-1):\n",
    "        print(\" \",end=\"\")\n",
    "    for k in range(i+1):\n",
    "        if i % 2 == 0:\n",
    "            print(\"#\",end=\"\")\n",
    "        else:\n",
    "            print(\"*\",end=\"\")\n",
    "    print()\n",
    "        \n",
    "        "
   ]
  },
  {
   "cell_type": "code",
   "execution_count": 53,
   "id": "f6fe1ac3",
   "metadata": {},
   "outputs": [],
   "source": [
    "# #\n",
    "# *#\n",
    "# #*#\n",
    "# *#*#\n",
    "# #*#*#"
   ]
  },
  {
   "cell_type": "code",
   "execution_count": 168,
   "id": "4721920b",
   "metadata": {},
   "outputs": [
    {
     "name": "stdout",
     "output_type": "stream",
     "text": [
      "#\n",
      "*#\n",
      "#*#\n",
      "*#*#\n",
      "#*#*#\n"
     ]
    }
   ],
   "source": [
    "n = 5\n",
    "for i in range(1,n+1):\n",
    "    for j in range(1,i+1):\n",
    "        if i % 2 == 0:\n",
    "            if j % 2 != 0:\n",
    "                print(\"*\",end=\"\")\n",
    "            else:\n",
    "                print(\"#\",end=\"\")\n",
    "        else:\n",
    "            if j % 2 != 0:\n",
    "                print(\"#\",end=\"\")\n",
    "            else:\n",
    "                print(\"*\",end=\"\")\n",
    "    print()"
   ]
  },
  {
   "cell_type": "code",
   "execution_count": 1,
   "id": "94cb77e9",
   "metadata": {},
   "outputs": [],
   "source": [
    "# 1\n",
    "# **\n",
    "# 333\n",
    "# ****\n",
    "# 55555\n",
    "\n",
    "#48"
   ]
  },
  {
   "cell_type": "code",
   "execution_count": 2,
   "id": "8410b901",
   "metadata": {},
   "outputs": [
    {
     "name": "stdout",
     "output_type": "stream",
     "text": [
      "1\n",
      "**\n",
      "333\n",
      "****\n",
      "55555\n"
     ]
    }
   ],
   "source": [
    "n = 5\n",
    "for i in range(1,n+1):\n",
    "    for j in range(1,i+1):\n",
    "        if i % 2 != 0:\n",
    "            print(i,end=\"\")\n",
    "        else:\n",
    "            print(\"*\",end=\"\")\n",
    "    print()"
   ]
  },
  {
   "cell_type": "code",
   "execution_count": 3,
   "id": "1ccaecc8",
   "metadata": {},
   "outputs": [],
   "source": [
    "# 1\n",
    "# **\n",
    "# 321\n",
    "# ****\n",
    "# 54321\n",
    "\n",
    "#49"
   ]
  },
  {
   "cell_type": "code",
   "execution_count": 8,
   "id": "63188eae",
   "metadata": {},
   "outputs": [
    {
     "name": "stdout",
     "output_type": "stream",
     "text": [
      "1\n",
      "**\n",
      "321\n",
      "****\n",
      "54321\n"
     ]
    }
   ],
   "source": [
    "n = 5\n",
    "for i in range(1,n+1):\n",
    "    for j in range(i,0,-1):\n",
    "        if i % 2 !=0:\n",
    "            print(j,end=\"\")\n",
    "        else:\n",
    "            print(\"*\",end=\"\")\n",
    "    print()"
   ]
  },
  {
   "cell_type": "code",
   "execution_count": 1,
   "id": "7a827be3",
   "metadata": {},
   "outputs": [],
   "source": [
    "# 5\n",
    "# **\n",
    "# 345\n",
    "# ****\n",
    "# 12345"
   ]
  },
  {
   "cell_type": "code",
   "execution_count": 5,
   "id": "ffde32b3",
   "metadata": {},
   "outputs": [
    {
     "name": "stdout",
     "output_type": "stream",
     "text": [
      "5\n",
      "**\n",
      "345\n",
      "****\n",
      "12345\n"
     ]
    }
   ],
   "source": [
    "n = 5\n",
    "for i in range(n,0,-1):\n",
    "    for j in range(i,n+1):\n",
    "        if i % 2 !=0:\n",
    "            print(j,end=\"\")\n",
    "        else:\n",
    "            print(\"*\",end=\"\")\n",
    "    print()"
   ]
  },
  {
   "cell_type": "code",
   "execution_count": 6,
   "id": "0d6cd1a1",
   "metadata": {},
   "outputs": [],
   "source": [
    "# 1\n",
    "# *1\n",
    "# 3*1\n",
    "# *3*1\n",
    "# 5*3*1\n",
    "\n",
    "#pattern 51"
   ]
  },
  {
   "cell_type": "code",
   "execution_count": 17,
   "id": "722ccbb7",
   "metadata": {},
   "outputs": [
    {
     "name": "stdout",
     "output_type": "stream",
     "text": [
      "1\n",
      "*1\n",
      "3*1\n",
      "*3*1\n",
      "5*3*1\n"
     ]
    }
   ],
   "source": [
    "n =5\n",
    "for i in range(1,n+1):\n",
    "    for j in range(i,0,-1):\n",
    "        if i % 2 !=0:\n",
    "            if j % 2 == 0:\n",
    "                print('*',end=\"\")\n",
    "            else:\n",
    "                print(j,end=\"\")\n",
    "        else:\n",
    "            if j % 2 == 0:\n",
    "                print('*',end=\"\")\n",
    "            else:\n",
    "                print(j,end=\"\")\n",
    "    print()"
   ]
  },
  {
   "cell_type": "code",
   "execution_count": 2,
   "id": "2d3beb1a",
   "metadata": {},
   "outputs": [],
   "source": [
    "#     1\n",
    "#    *1\n",
    "#   3*1\n",
    "#  *3*1\n",
    "# 5*3*1\n",
    "\n",
    "# pattern 52"
   ]
  },
  {
   "cell_type": "code",
   "execution_count": 5,
   "id": "41224b39",
   "metadata": {},
   "outputs": [
    {
     "name": "stdout",
     "output_type": "stream",
     "text": [
      "    1\n",
      "   *1\n",
      "  3*1\n",
      " *3*1\n",
      "5*3*1\n"
     ]
    }
   ],
   "source": [
    "n = 5\n",
    "for i in range(1,n+1):\n",
    "    \n",
    "    for k in range(n-i):\n",
    "        print(\" \",end=\"\")\n",
    "\n",
    "    for j in range(i,0,-1):\n",
    "        if j % 2 != 0:\n",
    "            print(j,end=\"\")\n",
    "        else:\n",
    "            print(\"*\",end=\"\")\n",
    "    print()"
   ]
  },
  {
   "cell_type": "code",
   "execution_count": 6,
   "id": "c86a648b",
   "metadata": {},
   "outputs": [],
   "source": [
    "#     1\n",
    "#    *2\n",
    "#   3*3\n",
    "#  *4*4\n",
    "# 5*5*5\n",
    "\n",
    "#pattern 52"
   ]
  },
  {
   "cell_type": "code",
   "execution_count": 10,
   "id": "d860e9dc",
   "metadata": {},
   "outputs": [
    {
     "name": "stdout",
     "output_type": "stream",
     "text": [
      "    1\n",
      "   *2\n",
      "  3*3\n",
      " *4*4\n",
      "5*5*5\n"
     ]
    }
   ],
   "source": [
    "n = 5\n",
    "for i in range(1,n+1):\n",
    "    for k in range(n,i,-1):\n",
    "        print(\" \",end=\"\")\n",
    "    for j in range(i,0,-1):\n",
    "        if j% 2 !=0:\n",
    "            print(i,end=\"\")\n",
    "        else:\n",
    "            print(\"*\",end=\"\")\n",
    "    print()"
   ]
  },
  {
   "cell_type": "code",
   "execution_count": 11,
   "id": "8ccaf730",
   "metadata": {},
   "outputs": [],
   "source": [
    "# #####\n",
    "#  ****\n",
    "#   ###\n",
    "#    **\n",
    "#     #\n",
    "\n",
    "#pattern 53"
   ]
  },
  {
   "cell_type": "code",
   "execution_count": 35,
   "id": "3c25f3f8",
   "metadata": {},
   "outputs": [
    {
     "name": "stdout",
     "output_type": "stream",
     "text": [
      "#####\n",
      " ****\n",
      "  ###\n",
      "   **\n",
      "    #\n"
     ]
    }
   ],
   "source": [
    "n = 5\n",
    "for i in range(n,0,-1):\n",
    "    for k in range(i,n):\n",
    "        print(\" \",end=\"\")\n",
    "    for j in range(i):\n",
    "        if i % 2 != 0:\n",
    "            print(\"#\",end=\"\")\n",
    "        else:\n",
    "            print(\"*\",end=\"\")\n",
    "    print()"
   ]
  },
  {
   "cell_type": "code",
   "execution_count": 37,
   "id": "15abcb9c",
   "metadata": {},
   "outputs": [],
   "source": [
    "# #*#*#\n",
    "# *#*#\n",
    "# #*#\n",
    "# *#\n",
    "# #\n",
    "\n",
    "#pattern 54"
   ]
  },
  {
   "cell_type": "code",
   "execution_count": 42,
   "id": "2dfded64",
   "metadata": {},
   "outputs": [
    {
     "name": "stdout",
     "output_type": "stream",
     "text": [
      "#*#*#\n",
      "*#*#\n",
      "#*#\n",
      "*#\n",
      "#\n"
     ]
    }
   ],
   "source": [
    "n = 5 \n",
    "for i in range(n,0,-1):\n",
    "    for j in range(i):\n",
    "        if i % 2 != 0:\n",
    "            if j % 2 != 0:\n",
    "                print(\"*\",end=\"\")\n",
    "            else:\n",
    "                print(\"#\",end=\"\")\n",
    "        else:\n",
    "            if j % 2 != 0:\n",
    "                print(\"#\",end=\"\")\n",
    "            else:\n",
    "                print(\"*\",end=\"\")\n",
    "        \n",
    "    print()"
   ]
  },
  {
   "cell_type": "code",
   "execution_count": 43,
   "id": "315dedb5",
   "metadata": {},
   "outputs": [],
   "source": [
    "# 54321\n",
    "# ****\n",
    "# 321\n",
    "# **\n",
    "# 1\n",
    "\n",
    "# pattern 56  "
   ]
  },
  {
   "cell_type": "code",
   "execution_count": 76,
   "id": "322277fd",
   "metadata": {
    "scrolled": true
   },
   "outputs": [
    {
     "name": "stdout",
     "output_type": "stream",
     "text": [
      "54321\n",
      "****\n",
      "321\n",
      "**\n",
      "1\n"
     ]
    }
   ],
   "source": [
    "n = 5\n",
    "for i in range(n,0,-1):\n",
    "    for j in range(i,0,-1):\n",
    "        if i % 2 != 0:\n",
    "            print(j,end=\"\")\n",
    "        else:\n",
    "            print(\"*\",end=\"\")\n",
    "    print()"
   ]
  },
  {
   "cell_type": "code",
   "execution_count": 77,
   "id": "7e67a78f",
   "metadata": {},
   "outputs": [],
   "source": [
    "# 5*3*1\n",
    "# *3*1\n",
    "# 3*1\n",
    "# *1\n",
    "# 1\n",
    "\n",
    "# PATTERN 57"
   ]
  },
  {
   "cell_type": "code",
   "execution_count": 106,
   "id": "ca567927",
   "metadata": {},
   "outputs": [
    {
     "name": "stdout",
     "output_type": "stream",
     "text": [
      "5*3*1\n",
      "*3*1\n",
      "3*1\n",
      "*1\n",
      "1\n"
     ]
    }
   ],
   "source": [
    "n = 5 \n",
    "for i in range(n,0,-1):\n",
    "    for j in range(i,0,-1):\n",
    "        if i % 2 == 0:\n",
    "            if j % 2 == 0:\n",
    "                print(\"*\",end=\"\")\n",
    "            else:\n",
    "                print(j,end=\"\")\n",
    "        else:\n",
    "            if j % 2 == 0 :\n",
    "                print(\"*\",end=\"\")\n",
    "            else:\n",
    "                print(j,end=\"\")\n",
    "    print()"
   ]
  },
  {
   "cell_type": "code",
   "execution_count": 2,
   "id": "5d2c7458",
   "metadata": {},
   "outputs": [],
   "source": [
    "#     #\n",
    "#    **\n",
    "#   ###\n",
    "#  ****\n",
    "# #####\n",
    "\n",
    "# @@@@#\n",
    "# @@@**\n",
    "# @@###\n",
    "# @****\n",
    "# #####\n",
    "#pattern 58"
   ]
  },
  {
   "cell_type": "code",
   "execution_count": 7,
   "id": "230ab4d0",
   "metadata": {},
   "outputs": [
    {
     "name": "stdout",
     "output_type": "stream",
     "text": [
      "    #\n",
      "   **\n",
      "  ###\n",
      " ****\n",
      "#####\n"
     ]
    }
   ],
   "source": [
    "n = 5\n",
    "for i in range(1,n+1):\n",
    "    for j in range(n-1,i-1,-1):\n",
    "        print(\" \",end=\"\")\n",
    "    for k in range(i):\n",
    "        if i % 2 != 0:\n",
    "            print(\"#\",end=\"\")\n",
    "        else:\n",
    "            print(\"*\",end=\"\")\n",
    "    print()"
   ]
  },
  {
   "cell_type": "code",
   "execution_count": 1,
   "id": "25681a2b",
   "metadata": {},
   "outputs": [],
   "source": [
    "#pattern 59\n",
    "# #\n",
    "# * #\n",
    "# # * #\n",
    "# * # * #\n",
    "\n",
    "#!!!!!!!!!!!!!!\n",
    "\n",
    "#       #\n",
    "#     * #\n",
    "#   # * #\n",
    "# * # * #"
   ]
  },
  {
   "cell_type": "code",
   "execution_count": 23,
   "id": "667b4e3d",
   "metadata": {},
   "outputs": [
    {
     "name": "stdout",
     "output_type": "stream",
     "text": [
      "   # \n",
      "  * # \n",
      " # * # \n",
      "* # * # \n"
     ]
    }
   ],
   "source": [
    "n = 4\n",
    "\n",
    "for i in range(1,n+1):\n",
    "    \n",
    "    for k in range(n,i,-1):\n",
    "        print(\"\",end=\" \")\n",
    "        \n",
    "    for j in range(i):\n",
    "        if i % 2 == 0:\n",
    "            if j % 2 != 0:\n",
    "                print(\"#\",end=\" \")\n",
    "            else:\n",
    "                print(\"*\",end=\" \")\n",
    "        else:\n",
    "            if j % 2 == 0:\n",
    "                print(\"#\",end=\" \")\n",
    "            else:\n",
    "                print(\"*\",end=\" \")\n",
    "    print()"
   ]
  },
  {
   "cell_type": "code",
   "execution_count": 24,
   "id": "602e1a12",
   "metadata": {},
   "outputs": [],
   "source": [
    "# pattern 60\n",
    "# 1\n",
    "# * *\n",
    "# 3 3 3\n",
    "# * * * *\n",
    "# 5 5 5 5 5"
   ]
  },
  {
   "cell_type": "code",
   "execution_count": 28,
   "id": "6bc56b2c",
   "metadata": {},
   "outputs": [
    {
     "name": "stdout",
     "output_type": "stream",
     "text": [
      "1 \n",
      "* * \n",
      "3 3 3 \n",
      "* * * * \n",
      "5 5 5 5 5 \n"
     ]
    }
   ],
   "source": [
    "n = 5\n",
    "for i in range(1,n+1):\n",
    "    for j in range(i):\n",
    "        if i % 2 == 0 :\n",
    "            print(\"*\",end=\" \")\n",
    "        else:\n",
    "            print(i,end=\" \")\n",
    "    print()"
   ]
  },
  {
   "cell_type": "code",
   "execution_count": 29,
   "id": "98b5b24d",
   "metadata": {},
   "outputs": [],
   "source": [
    "#pattern 61\n",
    "\n",
    "# # # # # #\n",
    "#  * * * *\n",
    "#   # # #\n",
    "#    * *\n",
    "#     #\n"
   ]
  },
  {
   "cell_type": "code",
   "execution_count": 48,
   "id": "04662066",
   "metadata": {},
   "outputs": [
    {
     "name": "stdout",
     "output_type": "stream",
     "text": [
      "@# # # # # \n",
      "@@* * * * \n",
      "@@@# # # \n",
      "@@@@* * \n",
      "@@@@@# \n"
     ]
    }
   ],
   "source": [
    "n = 5\n",
    "for i in range(n,0,-1):\n",
    "    for k in range(n+1,i,-1):\n",
    "        print(\"\",end=\"@\")\n",
    "    for j in range(i):\n",
    "        if i % 2 == 0 :\n",
    "            print(\"*\",end=\" \")\n",
    "        else:\n",
    "            print(\"#\",end=\" \")\n",
    "    print()"
   ]
  },
  {
   "cell_type": "code",
   "execution_count": 62,
   "id": "4e5fffb8",
   "metadata": {},
   "outputs": [
    {
     "name": "stdout",
     "output_type": "stream",
     "text": [
      " # # # # # \n",
      "  * * * * \n",
      "   # # # \n",
      "    * * \n",
      "     # \n"
     ]
    }
   ],
   "source": [
    "for i in range(n,0,-1):\n",
    "    for k in range(n+1,i,-1):\n",
    "        print(\" \",end=\"\")\n",
    "    for j in range(i):\n",
    "        if i % 2 == 0 :\n",
    "            print(\"*\",end=\" \")\n",
    "        else:\n",
    "            print(\"#\",end=\" \")\n",
    "    print()"
   ]
  },
  {
   "cell_type": "code",
   "execution_count": 59,
   "id": "2a52ebaf",
   "metadata": {},
   "outputs": [],
   "source": [
    "#  *   *\n",
    "#   * *\n",
    "#    *\n",
    "#   * *\n",
    "#  *   *\n",
    "\n",
    "#  *###*\n",
    "#  #*#*#\n",
    "#  ##*##\n",
    "#  #*#*#\n",
    "#  *###*"
   ]
  },
  {
   "cell_type": "code",
   "execution_count": 82,
   "id": "3f508aed",
   "metadata": {},
   "outputs": [
    {
     "name": "stdout",
     "output_type": "stream",
     "text": [
      "*   *\n",
      " * * \n",
      "  *  \n",
      " * * \n",
      "*   *\n"
     ]
    }
   ],
   "source": [
    "n = 5\n",
    "start = 1\n",
    "end= n\n",
    "\n",
    "for i in range(1,n+1):\n",
    "    for j in range(1,n+1):\n",
    "        if j == start:\n",
    "            print(\"*\",end=\"\")\n",
    "        elif j == end:\n",
    "            print(\"*\",end=\"\")\n",
    "        else:\n",
    "            print(\"\",end=\" \")\n",
    "    start +=1\n",
    "    end-=1\n",
    "    print()"
   ]
  },
  {
   "cell_type": "code",
   "execution_count": 83,
   "id": "1d02bf0b",
   "metadata": {},
   "outputs": [
    {
     "name": "stdout",
     "output_type": "stream",
     "text": [
      "*   *\n",
      " * * \n",
      "  *  \n",
      " * * \n",
      "*   *\n"
     ]
    }
   ],
   "source": [
    "n = 5\n",
    "for i in range(1, n + 1):\n",
    "    for j in range(1, n + 1):\n",
    "        if i == j or i + j == n + 1:\n",
    "        if 2 == 2 or 1 + 5 == 5 + 1:\n",
    "            print(\"*\", end=\"\")\n",
    "        else:\n",
    "            print(\" \", end=\"\")\n",
    "    print()"
   ]
  },
  {
   "cell_type": "code",
   "execution_count": 84,
   "id": "26da8888",
   "metadata": {},
   "outputs": [],
   "source": [
    "#   *\n",
    "#   *\n",
    "# *****\n",
    "#   *\n",
    "#   *\n",
    "\n",
    "# pattern 69"
   ]
  },
  {
   "cell_type": "code",
   "execution_count": 148,
   "id": "b963bc42",
   "metadata": {},
   "outputs": [
    {
     "name": "stdout",
     "output_type": "stream",
     "text": [
      "  *  \n",
      "  *  \n",
      "*****\n",
      "  *  \n",
      "  *  \n"
     ]
    }
   ],
   "source": [
    "n=5\n",
    "\n",
    "for i in range(n):\n",
    "    for j in range(n):\n",
    "        if i == n//2 or j == n//2:\n",
    "            print('*',end=\"\")\n",
    "        else:\n",
    "            print(\"\",end=\" \")\n",
    "    print()"
   ]
  },
  {
   "cell_type": "code",
   "execution_count": 149,
   "id": "e73bff35",
   "metadata": {},
   "outputs": [],
   "source": [
    "# *****\n",
    "# *###*\n",
    "# *###*\n",
    "# *###*\n",
    "# *****"
   ]
  },
  {
   "cell_type": "code",
   "execution_count": 176,
   "id": "95695073",
   "metadata": {},
   "outputs": [
    {
     "name": "stdout",
     "output_type": "stream",
     "text": [
      "* * * * * \n",
      "* + + + * \n",
      "* + + + * \n",
      "* + + + * \n",
      "* * * * * \n"
     ]
    }
   ],
   "source": [
    "n = 5\n",
    "for i in range(1,n+1):\n",
    "    for j in range(1,n+1):\n",
    "        if i == 1 or i == n or j == 1 or j == n:\n",
    "            print(\"*\",end=\" \")\n",
    "        else:\n",
    "            print(\"+\",end=\" \")\n",
    "    print()"
   ]
  }
 ],
 "metadata": {
  "kernelspec": {
   "display_name": "Python 3 (ipykernel)",
   "language": "python",
   "name": "python3"
  },
  "language_info": {
   "codemirror_mode": {
    "name": "ipython",
    "version": 3
   },
   "file_extension": ".py",
   "mimetype": "text/x-python",
   "name": "python",
   "nbconvert_exporter": "python",
   "pygments_lexer": "ipython3",
   "version": "3.11.5"
  }
 },
 "nbformat": 4,
 "nbformat_minor": 5
}
